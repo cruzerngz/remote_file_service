{
 "cells": [
  {
   "cell_type": "code",
   "execution_count": null,
   "metadata": {},
   "outputs": [],
   "source": [
    "import pandas as pd\n",
    "import seaborn as sb\n",
    "import math\n",
    "import numpy as np\n",
    "\n",
    "import matplotlib.pyplot as plt"
   ]
  },
  {
   "cell_type": "code",
   "execution_count": null,
   "metadata": {},
   "outputs": [],
   "source": [
    "df = pd.read_csv(\"all.csv\")\n",
    "\n",
    "df = df.sort_values(by=[\"client_protocol\", \"remote_protocol\"])\n",
    "\n",
    "df.head(20)"
   ]
  },
  {
   "cell_type": "code",
   "execution_count": null,
   "metadata": {},
   "outputs": [],
   "source": [
    "# calculate derived data\n",
    "df[\"init_failure_rate\"] = df[\"init_failures\"] / df[\"init_count\"] * 100\n",
    "df[\"method_failure_rate\"] = df[\"method_call_failures\"] / df[\"method_call_count\"] * 100\n",
    "df[\"non_idempotent_mismatch_rate\"] = df[\"non_idempotent_mismatches\"] / df[\"non_idempotent_calls\"] * 100\n",
    "\n",
    "# factor difference between simulated failure rate and observed failure rate\n",
    "df[\"method_failure_factor\"] = 100 / df[\"inverse_failure_probability\"] / df[\"method_failure_rate\"]\n",
    "\n",
    "# calc axes variables\n",
    "df[\"log_inverse_failure_probability\"] = np.log10(df[\"inverse_failure_probability\"])\n",
    "\n",
    "df[\"log_inverse_failure_probability\"].fillna(10, inplace=True)\n"
   ]
  },
  {
   "cell_type": "code",
   "execution_count": null,
   "metadata": {},
   "outputs": [],
   "source": [
    "# client_remote\n",
    "# segmenting the dataset into 4 partitions\n",
    "\n",
    "not_faulty= \"^((?!Faulty).)*$\"\n",
    "\n",
    "same_proto: pd.DataFrame = df[df[\"client_protocol\"] == df[\"remote_protocol\"]]\n",
    "diff_proto: pd.DataFrame = df[df[\"client_protocol\"] != df[\"remote_protocol\"]]\n",
    "\n",
    "ok_ok = same_proto[df[\"client_protocol\"].str.contains(not_faulty)]\n",
    "err_err = same_proto[df[\"client_protocol\"].str.startswith(\"Faulty\")]\n",
    "\n",
    "ok_err = diff_proto[df[\"client_protocol\"].str.contains(not_faulty)]\n",
    "err_ok = diff_proto[df[\"client_protocol\"].str.startswith(\"Faulty\")]\n",
    "\n",
    "\n",
    "ok_err\n"
   ]
  },
  {
   "cell_type": "code",
   "execution_count": null,
   "metadata": {},
   "outputs": [],
   "source": [
    "fig, axes = plt.subplots(2, 2, figsize=(10, 10))\n",
    "# all subplots share the same axes labels, remove the labels from all but the bottom left\n",
    "for ax in axes[0, :]:\n",
    "    ax.set_xlabel(\"\")\n",
    "\n",
    "data = [\n",
    "    [ok_ok, ok_err],\n",
    "    [err_ok, err_err]\n",
    "]\n",
    "\n",
    "titles = [\n",
    "    [\"Control\", \"Server-side failure\"],\n",
    "    [\"Client-side failure\", \"Twin failure\"]\n",
    "]\n",
    "\n",
    "# sb.color_palette(\"rocket\")\n",
    "sb.set_palette(\"mako\", n_colors=3)\n",
    "\n",
    "# fig.legend(handles=[], labels=[], loc=\"upper center\", ncol=3)\n",
    "\n",
    "for row in range(2):\n",
    "    for col in range(2):\n",
    "\n",
    "        axes[row, col].set_title(titles[row][col])\n",
    "\n",
    "        # create vertical grid lines inside each subplot\n",
    "        # axes[row, col].grid(which=\"both\", axis=\"x\", linestyle=\"--\")\n",
    "        axes[row, col].yaxis.grid()\n",
    "\n",
    "        sb.swarmplot(\n",
    "            data=data[row][col],\n",
    "            x=\"log_inverse_failure_probability\",\n",
    "            y=\"init_failure_rate\",\n",
    "            ax=axes[row, col],\n",
    "            hue=\"client_protocol\",\n",
    "            dodge=True,\n",
    "            # legend=False\n",
    "        )\n",
    "\n",
    "        axes[row, col].legend().set_visible(False)\n",
    "\n",
    "        # create a global legend for the entire figure based on the first subplot\n",
    "        if row == 0 and col == 0:\n",
    "            handles, labels = axes[row, col].get_legend_handles_labels()\n",
    "            fig.legend(handles, labels, loc=\"upper center\", ncol=3)\n"
   ]
  },
  {
   "cell_type": "code",
   "execution_count": null,
   "metadata": {},
   "outputs": [],
   "source": [
    "fig.savefig(\"plot.svg\")\n"
   ]
  },
  {
   "cell_type": "code",
   "execution_count": null,
   "metadata": {},
   "outputs": [],
   "source": [
    "fig, axes = plt.subplots(2, 2, figsize=(10, 10))\n",
    "# all subplots share the same axes labels, remove the labels from all but the bottom left\n",
    "for ax in axes[0, :]:\n",
    "    ax.set_xlabel(\"\")\n",
    "\n",
    "data = [\n",
    "    [ok_ok, ok_err],\n",
    "    [err_ok, err_err]\n",
    "]\n",
    "\n",
    "titles = [\n",
    "    [\"Control\", \"Server-side failure\"],\n",
    "    [\"Client-side failure\", \"Twin failure\"]\n",
    "]\n",
    "\n",
    "# sb.color_palette(\"rocket\")\n",
    "sb.set_palette(\"mako\", n_colors=3)\n",
    "\n",
    "# fig.legend(handles=[], labels=[], loc=\"upper center\", ncol=3)\n",
    "\n",
    "for row in range(2):\n",
    "    for col in range(2):\n",
    "\n",
    "        axes[row, col].set_title(titles[row][col])\n",
    "\n",
    "        # create vertical grid lines inside each subplot\n",
    "        # axes[row, col].grid(which=\"both\", axis=\"x\", linestyle=\"--\")\n",
    "        axes[row, col].yaxis.grid()\n",
    "\n",
    "        sb.swarmplot(\n",
    "            data=data[row][col],\n",
    "            x=\"log_inverse_failure_probability\",\n",
    "            y=\"non_idempotent_mismatch_rate\",\n",
    "            ax=axes[row, col],\n",
    "            hue=\"client_protocol\",\n",
    "            dodge=True,\n",
    "            # legend=False\n",
    "        )\n",
    "\n",
    "        axes[row, col].legend().set_visible(False)\n",
    "\n",
    "        # create a global legend for the entire figure based on the first subplot\n",
    "        if row == 0 and col == 0:\n",
    "            handles, labels = axes[row, col].get_legend_handles_labels()\n",
    "            fig.legend(handles, labels, loc=\"upper center\", ncol=3)\n"
   ]
  },
  {
   "cell_type": "code",
   "execution_count": null,
   "metadata": {},
   "outputs": [],
   "source": [
    "fig.savefig(\"idem.svg\")\n"
   ]
  }
 ],
 "metadata": {
  "kernelspec": {
   "display_name": "Python 3",
   "language": "python",
   "name": "python3"
  },
  "language_info": {
   "codemirror_mode": {
    "name": "ipython",
    "version": 3
   },
   "file_extension": ".py",
   "mimetype": "text/x-python",
   "name": "python",
   "nbconvert_exporter": "python",
   "pygments_lexer": "ipython3",
   "version": "3.10.12"
  }
 },
 "nbformat": 4,
 "nbformat_minor": 2
}
